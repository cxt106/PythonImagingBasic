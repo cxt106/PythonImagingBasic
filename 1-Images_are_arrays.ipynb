{
 "cells": [
  {
   "cell_type": "markdown",
   "metadata": {},
   "source": [
    "## Before you begin\n",
    "\n",
    "1. Install [Anaconda](https://www.anaconda.com/download/#macos) (or [Miniconda](https://conda.io/miniconda.html))\n",
    "    * This gives you access to the `conda` Python package management system\n",
    "    * **Windows Users**: You may want to opt for the full install of Anaconda. This will give you \"Anaconda Prompt\" which will make it easier for you to follow along here.\n",
    "    \n",
    "2. Using conda in a terminal window (or Anaconda prompt in Windows), create a virtual environment called 'ImPyClass' that uses Python3:\n",
    "\n",
    "    ```bash\n",
    "    conda create -n ImPyClass python=3\n",
    "    ```\n",
    "  \n",
    "3. Switch to the ImPyClass virtual environment\n",
    "\n",
    "      macOS, Linux: `source activate ImPyClass`\n",
    "      \n",
    "      Windows: `activate ImPyClass`\n",
    "      \n",
    "4. Install Scikit-Image, Numpy, Jupyter, and NB_Conda:\n",
    "\n",
    "    ```bash\n",
    "    conda install scikit-image numpy jupyter nb_conda\n",
    "    ```\n",
    "5. Launch Jupyter from the Anaconda launcher or command line, then open this notebook (1-Images_are_arrays.ipynb)"
   ]
  },
  {
   "cell_type": "markdown",
   "metadata": {},
   "source": [
    "# Part 1: Images are Arrays\n",
    "\n",
    "## 2-D color images"
   ]
  },
  {
   "cell_type": "code",
   "execution_count": null,
   "metadata": {},
   "outputs": [],
   "source": [
    "# The first thing we need to do is import the right packages for dealing with image files\n",
    "import numpy as np\n",
    "import matplotlib.pyplot as plt\n",
    "from skimage import data\n",
    "\n",
    "# This next line will enable us to view output in the notebook\n",
    "%matplotlib inline"
   ]
  },
  {
   "cell_type": "code",
   "execution_count": null,
   "metadata": {},
   "outputs": [],
   "source": [
    "# scikit-image comes with some example data. Lets load some \n",
    "image = data.astronaut()\n",
    "\n",
    "# Lets first take a look using the plt.imshow() function\n",
    "plt.imshow(image);"
   ]
  },
  {
   "cell_type": "code",
   "execution_count": null,
   "metadata": {},
   "outputs": [],
   "source": [
    "# so what type of data is \"image\"?\n",
    "type(image)"
   ]
  },
  {
   "cell_type": "markdown",
   "metadata": {},
   "source": [
    "### Read all about numpy.ndarrays [here](https://docs.scipy.org/doc/numpy/reference/arrays.ndarray.html)"
   ]
  },
  {
   "cell_type": "code",
   "execution_count": null,
   "metadata": {
    "scrolled": true
   },
   "outputs": [],
   "source": [
    "# Python will show you a snippet of the array if you just call it\n",
    "# But this is not terribly useful\n",
    "image"
   ]
  },
  {
   "cell_type": "code",
   "execution_count": null,
   "metadata": {},
   "outputs": [],
   "source": [
    "# check some of the attributes of our numpy.ndarray\n",
    "\n",
    "# dimensions\n",
    "image.ndim"
   ]
  },
  {
   "cell_type": "code",
   "execution_count": null,
   "metadata": {},
   "outputs": [],
   "source": [
    "# size of each dimension (why does this image have three dimensions?)\n",
    "image.shape"
   ]
  },
  {
   "cell_type": "code",
   "execution_count": null,
   "metadata": {},
   "outputs": [],
   "source": [
    "# type of data\n",
    "image.dtype"
   ]
  },
  {
   "cell_type": "code",
   "execution_count": null,
   "metadata": {},
   "outputs": [],
   "source": [
    "# you can also use numpy.ndarray object methods\n",
    "flat_image = image.flatten() #what does this do?\n",
    "flat_image.shape"
   ]
  },
  {
   "cell_type": "code",
   "execution_count": null,
   "metadata": {},
   "outputs": [],
   "source": [
    "# you can use indexing to select just parts of the array\n",
    "face = image[0:200, 150:300, 0]\n",
    "face.shape"
   ]
  },
  {
   "cell_type": "code",
   "execution_count": null,
   "metadata": {},
   "outputs": [],
   "source": [
    "# lets take a look at the cropped image using plt.imshow()\n",
    "plt.imshow(face);"
   ]
  },
  {
   "cell_type": "code",
   "execution_count": null,
   "metadata": {},
   "outputs": [],
   "source": [
    "# The cmap parameter can be used to make this look more like what we would expect\n",
    "plt.imshow(face, cmap='gray');"
   ]
  },
  {
   "cell_type": "code",
   "execution_count": null,
   "metadata": {},
   "outputs": [],
   "source": [
    "# very small arrays are a little easier to visualize as images\n",
    "eye = face[97:102, 50:55]\n",
    "eye"
   ]
  },
  {
   "cell_type": "code",
   "execution_count": null,
   "metadata": {},
   "outputs": [],
   "source": [
    "# compare the image with the array above\n",
    "plt.imshow(eye, cmap='gray');"
   ]
  },
  {
   "cell_type": "code",
   "execution_count": null,
   "metadata": {},
   "outputs": [],
   "source": [
    "# we can easily perform math on our numpy.ndarray\n",
    "eye - 34"
   ]
  },
  {
   "cell_type": "markdown",
   "metadata": {},
   "source": [
    "# Exercises\n",
    "\n",
    "1. Display a cropped color image of the astronaut's* face.\n",
    "2. Display a cropped color image of the model space shuttle in the image.\n",
    "3. Display each color channel of image\\[0:200, 0:100\\] in grayscale.\n",
    "    - Which channel is red?\n",
    "    - Which channel is blue?\n",
    "    - Which channel is green?\n",
    "\n",
    "*Retired astronaut Colonel Eileen Collins, the first woman to pilot and command the Space Shuttle"
   ]
  },
  {
   "cell_type": "code",
   "execution_count": null,
   "metadata": {},
   "outputs": [],
   "source": [
    "plt.imshow(image[0:200, 150:300, :]);"
   ]
  },
  {
   "cell_type": "code",
   "execution_count": null,
   "metadata": {},
   "outputs": [],
   "source": [
    "plt.imshow(image[0:300, 350:470, :]);"
   ]
  },
  {
   "cell_type": "code",
   "execution_count": null,
   "metadata": {},
   "outputs": [],
   "source": [
    "plt.imshow(image[0:200, 0:100, 0], cmap='gray'); #this is probably red"
   ]
  },
  {
   "cell_type": "code",
   "execution_count": null,
   "metadata": {},
   "outputs": [],
   "source": [
    "plt.imshow(image[0:200, 0:100, 1], cmap='gray'); #this has to be green"
   ]
  },
  {
   "cell_type": "code",
   "execution_count": null,
   "metadata": {},
   "outputs": [],
   "source": [
    "plt.imshow(image[0:200, 0:100, 2], cmap='gray'); #this is probably blue"
   ]
  },
  {
   "cell_type": "markdown",
   "metadata": {},
   "source": [
    "## 3-D images"
   ]
  },
  {
   "cell_type": "code",
   "execution_count": null,
   "metadata": {},
   "outputs": [],
   "source": [
    "# Now lets create an image volume of 2x3x4 'voxels' (like pixels, but volume)\n",
    "# Remember the 4th dimension is color!\n",
    "# So we start with an empty array of 4 dimensions, where the 4th dimension gets our color (RGB) information\n",
    "cube = np.zeros([2,3,4,3], dtype='uint8')\n",
    "cube.shape"
   ]
  },
  {
   "cell_type": "code",
   "execution_count": null,
   "metadata": {},
   "outputs": [],
   "source": [
    "# Now lets set some pixels in our cube\n",
    "cube[0,0,0,0] = 255 #red\n",
    "cube[1,1,1,1] = 255 #green\n",
    "cube[1,2,2,2] = 255 #blue\n",
    "cube[0,2,3,:] = 255 #white"
   ]
  },
  {
   "cell_type": "code",
   "execution_count": null,
   "metadata": {},
   "outputs": [],
   "source": [
    "# We need to visualize this one plane at a time, because this is a 3-D image and our screen is 2-D!\n",
    "plt.imshow(cube[:,:,0,:])"
   ]
  },
  {
   "cell_type": "code",
   "execution_count": null,
   "metadata": {},
   "outputs": [],
   "source": [
    "plt.imshow(cube[:,:,1,:])\n"
   ]
  },
  {
   "cell_type": "code",
   "execution_count": null,
   "metadata": {},
   "outputs": [],
   "source": [
    "plt.imshow(cube[:,:,2,:])"
   ]
  },
  {
   "cell_type": "code",
   "execution_count": null,
   "metadata": {},
   "outputs": [],
   "source": [
    "plt.imshow(cube[:,:,3,:])"
   ]
  },
  {
   "cell_type": "markdown",
   "metadata": {},
   "source": [
    "-----------\n",
    "### **Break to explore what this looks like in 3-D space**\n",
    "-----------"
   ]
  },
  {
   "cell_type": "code",
   "execution_count": null,
   "metadata": {},
   "outputs": [],
   "source": [
    "# If we take the maximum value along an axis, we can can view a \"projection\" of the volume\n",
    "plt.imshow(cube.max(axis=0))"
   ]
  },
  {
   "cell_type": "code",
   "execution_count": null,
   "metadata": {},
   "outputs": [],
   "source": [
    "plt.imshow(cube.max(axis=1))"
   ]
  },
  {
   "cell_type": "code",
   "execution_count": null,
   "metadata": {},
   "outputs": [],
   "source": [
    "plt.imshow(cube.max(axis=2))"
   ]
  },
  {
   "cell_type": "markdown",
   "metadata": {},
   "source": [
    "## Fun advanced stuff"
   ]
  },
  {
   "cell_type": "code",
   "execution_count": null,
   "metadata": {},
   "outputs": [],
   "source": [
    "from ipywidgets import interact\n",
    "import ipywidgets as widgets"
   ]
  },
  {
   "cell_type": "code",
   "execution_count": null,
   "metadata": {},
   "outputs": [],
   "source": [
    "def f(x):\n",
    "    plt.imshow(cube[:,:,x,:])\n",
    "    \n",
    "def im_max(x):\n",
    "    plt.imshow(cube.max(axis=x))"
   ]
  },
  {
   "cell_type": "code",
   "execution_count": null,
   "metadata": {},
   "outputs": [],
   "source": [
    "interact(f, x=widgets.IntSlider(min=0, max=3));"
   ]
  },
  {
   "cell_type": "code",
   "execution_count": null,
   "metadata": {},
   "outputs": [],
   "source": [
    "interact(im_max, x=widgets.IntSlider(min=0, max=2));"
   ]
  },
  {
   "cell_type": "code",
   "execution_count": null,
   "metadata": {},
   "outputs": [],
   "source": []
  }
 ],
 "metadata": {
  "kernelspec": {
   "display_name": "Python [conda env:ImPyClass]",
   "language": "python",
   "name": "conda-env-ImPyClass-py"
  },
  "language_info": {
   "codemirror_mode": {
    "name": "ipython",
    "version": 3
   },
   "file_extension": ".py",
   "mimetype": "text/x-python",
   "name": "python",
   "nbconvert_exporter": "python",
   "pygments_lexer": "ipython3",
   "version": "3.6.5"
  }
 },
 "nbformat": 4,
 "nbformat_minor": 2
}
